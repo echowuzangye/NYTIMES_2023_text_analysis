{
 "cells": [
  {
   "cell_type": "code",
   "execution_count": 134,
   "id": "de6acda0",
   "metadata": {},
   "outputs": [],
   "source": [
    "import pandas as pd\n",
    "import numpy as np\n",
    "import matplotlib.pyplot as plt\n",
    "import seaborn as sns\n",
    "import re\n",
    "from collections import Counter\n",
    "import plotly.graph_objs as go\n",
    "from plotly.offline import iplot\n",
    "from wordcloud import WordCloud,ImageColorGenerator\n",
    "from PIL import Image\n",
    "\n",
    "pd.set_option('max_colwidth', None)"
   ]
  },
  {
   "cell_type": "markdown",
   "id": "e34b4cf0",
   "metadata": {},
   "source": [
    "### Import CSV files obtained via NYtimes API."
   ]
  },
  {
   "cell_type": "code",
   "execution_count": 135,
   "id": "cf083e97",
   "metadata": {},
   "outputs": [],
   "source": [
    "df_full = pd.read_csv('extra_data/2023-1.csv', index_col=0)\n",
    "\n",
    "# combine all months data into one big file \n",
    "for i in range(2,13):\n",
    "    df = pd.read_csv(f'extra_data/2023-{i}.csv', index_col=0)\n",
    "    df_full = pd.concat([df_full,df])"
   ]
  },
  {
   "cell_type": "code",
   "execution_count": 136,
   "id": "64ddf059",
   "metadata": {},
   "outputs": [
    {
     "data": {
      "text/plain": [
       "(46043, 7)"
      ]
     },
     "execution_count": 136,
     "metadata": {},
     "output_type": "execute_result"
    }
   ],
   "source": [
    "df_full.shape"
   ]
  },
  {
   "cell_type": "code",
   "execution_count": 137,
   "id": "4d5b13b2",
   "metadata": {},
   "outputs": [
    {
     "name": "stdout",
     "output_type": "stream",
     "text": [
      "<class 'pandas.core.frame.DataFrame'>\n",
      "Int64Index: 46043 entries, 0 to 3524\n",
      "Data columns (total 7 columns):\n",
      " #   Column            Non-Null Count  Dtype \n",
      "---  ------            --------------  ----- \n",
      " 0   abstract          45713 non-null  object\n",
      " 1   pub_date          46043 non-null  object\n",
      " 2   document_type     46043 non-null  object\n",
      " 3   news_desk         45044 non-null  object\n",
      " 4   section_name      45718 non-null  object\n",
      " 5   type_of_material  43687 non-null  object\n",
      " 6   keywords          46043 non-null  object\n",
      "dtypes: object(7)\n",
      "memory usage: 2.8+ MB\n"
     ]
    }
   ],
   "source": [
    "df_full.info()"
   ]
  },
  {
   "cell_type": "code",
   "execution_count": 138,
   "id": "9ccf776a",
   "metadata": {},
   "outputs": [
    {
     "data": {
      "text/html": [
       "<div>\n",
       "<style scoped>\n",
       "    .dataframe tbody tr th:only-of-type {\n",
       "        vertical-align: middle;\n",
       "    }\n",
       "\n",
       "    .dataframe tbody tr th {\n",
       "        vertical-align: top;\n",
       "    }\n",
       "\n",
       "    .dataframe thead th {\n",
       "        text-align: right;\n",
       "    }\n",
       "</style>\n",
       "<table border=\"1\" class=\"dataframe\">\n",
       "  <thead>\n",
       "    <tr style=\"text-align: right;\">\n",
       "      <th></th>\n",
       "      <th>abstract</th>\n",
       "      <th>pub_date</th>\n",
       "      <th>document_type</th>\n",
       "      <th>news_desk</th>\n",
       "      <th>section_name</th>\n",
       "      <th>type_of_material</th>\n",
       "      <th>keywords</th>\n",
       "    </tr>\n",
       "  </thead>\n",
       "  <tbody>\n",
       "    <tr>\n",
       "      <th>0</th>\n",
       "      <td>Underlying the debate in America over abortion is a big, difficult question.</td>\n",
       "      <td>2023-01-01T00:05:59+0000</td>\n",
       "      <td>article</td>\n",
       "      <td>National</td>\n",
       "      <td>U.S.</td>\n",
       "      <td>News</td>\n",
       "      <td>['ABORTION', 'INTERNAL-OPEN-ACCESS']</td>\n",
       "    </tr>\n",
       "    <tr>\n",
       "      <th>1</th>\n",
       "      <td>The question is at the heart of the human experience — and the nation’s abortion debate. An exploration through science, theology and philosophy.</td>\n",
       "      <td>2023-01-01T00:15:57+0000</td>\n",
       "      <td>multimedia</td>\n",
       "      <td>U.S.</td>\n",
       "      <td>U.S.</td>\n",
       "      <td>Interactive Feature</td>\n",
       "      <td>['PREGNANCY AND CHILDBIRTH', 'EMBRYOS (HUMAN)', 'BIOLOGY AND BIOCHEMISTRY', 'ANATOMY AND PHYSIOLOGY', 'RELIGION AND BELIEF', 'ABORTION', 'UNITED STATES', 'PHILOSOPHY', 'INTERNAL-SUB-ONLY']</td>\n",
       "    </tr>\n",
       "    <tr>\n",
       "      <th>2</th>\n",
       "      <td>Texas Christian returned two interceptions for touchdowns, just part of a zany back-and-forth upset of Michigan, 51-45, which put the Horned Frogs in the national championship game.</td>\n",
       "      <td>2023-01-01T01:27:54+0000</td>\n",
       "      <td>article</td>\n",
       "      <td>Sports</td>\n",
       "      <td>Sports</td>\n",
       "      <td>News</td>\n",
       "      <td>['FOOTBALL (COLLEGE)', 'BIG 12 CONFERENCE', 'BIG TEN CONFERENCE', 'UNIVERSITY OF MICHIGAN', 'TEXAS CHRISTIAN UNIVERSITY', 'DYKES, DANIEL (SONNY) (1969- )', 'DUGGAN, MAX (2001- )', 'HARBAUGH, JIM']</td>\n",
       "    </tr>\n",
       "    <tr>\n",
       "      <th>3</th>\n",
       "      <td>Hours before Russian troops began withdrawing from the suburban town, a Russian soldier left a trail of blood and devastated lives in a last paroxysm of violence.</td>\n",
       "      <td>2023-01-01T04:00:10+0000</td>\n",
       "      <td>article</td>\n",
       "      <td>Foreign</td>\n",
       "      <td>World</td>\n",
       "      <td>News</td>\n",
       "      <td>['BUCHA (UKRAINE)', 'WAR CRIMES, GENOCIDE AND CRIMES AGAINST HUMANITY', 'CIVILIAN CASUALTIES', 'RUSSIAN INVASION OF UKRAINE (2022)', 'DEFENSE AND MILITARY FORCES', 'PUTIN, VLADIMIR V', 'KYIV (UKRAINE)', 'RUSSIA']</td>\n",
       "    </tr>\n",
       "    <tr>\n",
       "      <th>4</th>\n",
       "      <td>Georgia scored in the final minute of the game, and Ohio State missed a field goal in the first minute of 2023.</td>\n",
       "      <td>2023-01-01T05:06:06+0000</td>\n",
       "      <td>article</td>\n",
       "      <td>Sports</td>\n",
       "      <td>Sports</td>\n",
       "      <td>News</td>\n",
       "      <td>['FOOTBALL (COLLEGE)', 'COLLEGE FOOTBALL PLAYOFF NATIONAL CHAMPIONSHIP', 'PLAYOFF GAMES', 'PEACH BOWL (FOOTBALL GAME)', 'UNIVERSITY OF GEORGIA', 'OHIO STATE UNIVERSITY', 'BENNETT, STETSON (1997- )', 'STROUD, C J (2001- )', 'SMART, KIRBY', 'DAY, RYAN (1979- )']</td>\n",
       "    </tr>\n",
       "  </tbody>\n",
       "</table>\n",
       "</div>"
      ],
      "text/plain": [
       "                                                                                                                                                                                abstract  \\\n",
       "0                                                                                                           Underlying the debate in America over abortion is a big, difficult question.   \n",
       "1                                      The question is at the heart of the human experience — and the nation’s abortion debate. An exploration through science, theology and philosophy.   \n",
       "2  Texas Christian returned two interceptions for touchdowns, just part of a zany back-and-forth upset of Michigan, 51-45, which put the Horned Frogs in the national championship game.   \n",
       "3                     Hours before Russian troops began withdrawing from the suburban town, a Russian soldier left a trail of blood and devastated lives in a last paroxysm of violence.   \n",
       "4                                                                        Georgia scored in the final minute of the game, and Ohio State missed a field goal in the first minute of 2023.   \n",
       "\n",
       "                   pub_date document_type news_desk section_name  \\\n",
       "0  2023-01-01T00:05:59+0000       article  National         U.S.   \n",
       "1  2023-01-01T00:15:57+0000    multimedia      U.S.         U.S.   \n",
       "2  2023-01-01T01:27:54+0000       article    Sports       Sports   \n",
       "3  2023-01-01T04:00:10+0000       article   Foreign        World   \n",
       "4  2023-01-01T05:06:06+0000       article    Sports       Sports   \n",
       "\n",
       "      type_of_material  \\\n",
       "0                 News   \n",
       "1  Interactive Feature   \n",
       "2                 News   \n",
       "3                 News   \n",
       "4                 News   \n",
       "\n",
       "                                                                                                                                                                                                                                                               keywords  \n",
       "0                                                                                                                                                                                                                                  ['ABORTION', 'INTERNAL-OPEN-ACCESS']  \n",
       "1                                                                          ['PREGNANCY AND CHILDBIRTH', 'EMBRYOS (HUMAN)', 'BIOLOGY AND BIOCHEMISTRY', 'ANATOMY AND PHYSIOLOGY', 'RELIGION AND BELIEF', 'ABORTION', 'UNITED STATES', 'PHILOSOPHY', 'INTERNAL-SUB-ONLY']  \n",
       "2                                                                  ['FOOTBALL (COLLEGE)', 'BIG 12 CONFERENCE', 'BIG TEN CONFERENCE', 'UNIVERSITY OF MICHIGAN', 'TEXAS CHRISTIAN UNIVERSITY', 'DYKES, DANIEL (SONNY) (1969- )', 'DUGGAN, MAX (2001- )', 'HARBAUGH, JIM']  \n",
       "3                                                  ['BUCHA (UKRAINE)', 'WAR CRIMES, GENOCIDE AND CRIMES AGAINST HUMANITY', 'CIVILIAN CASUALTIES', 'RUSSIAN INVASION OF UKRAINE (2022)', 'DEFENSE AND MILITARY FORCES', 'PUTIN, VLADIMIR V', 'KYIV (UKRAINE)', 'RUSSIA']  \n",
       "4  ['FOOTBALL (COLLEGE)', 'COLLEGE FOOTBALL PLAYOFF NATIONAL CHAMPIONSHIP', 'PLAYOFF GAMES', 'PEACH BOWL (FOOTBALL GAME)', 'UNIVERSITY OF GEORGIA', 'OHIO STATE UNIVERSITY', 'BENNETT, STETSON (1997- )', 'STROUD, C J (2001- )', 'SMART, KIRBY', 'DAY, RYAN (1979- )']  "
      ]
     },
     "execution_count": 138,
     "metadata": {},
     "output_type": "execute_result"
    }
   ],
   "source": [
    "df_full.head()"
   ]
  },
  {
   "cell_type": "markdown",
   "id": "a1e461d1",
   "metadata": {},
   "source": [
    "### data cleaning"
   ]
  },
  {
   "cell_type": "markdown",
   "id": "bf2c273b",
   "metadata": {},
   "source": [
    "#### fix data types"
   ]
  },
  {
   "cell_type": "code",
   "execution_count": 139,
   "id": "c239fac0",
   "metadata": {},
   "outputs": [],
   "source": [
    "df_full['pub_date'] = pd.to_datetime(df_full['pub_date'])"
   ]
  },
  {
   "cell_type": "markdown",
   "id": "61d7e20f",
   "metadata": {},
   "source": [
    "#### remove brackets in `keywords`"
   ]
  },
  {
   "cell_type": "code",
   "execution_count": 140,
   "id": "197a1d0e",
   "metadata": {},
   "outputs": [],
   "source": [
    "def remove_brackets(x):\n",
    "    return x.replace('[','').replace(']','')\n",
    "\n",
    "df_full['keywords'] = df_full['keywords'].map(remove_brackets)"
   ]
  },
  {
   "cell_type": "code",
   "execution_count": 141,
   "id": "0b11861d",
   "metadata": {},
   "outputs": [],
   "source": [
    "# fill empty keywords with nan\n",
    "df_full['keywords'] = df_full['keywords'].replace('', np.nan)"
   ]
  },
  {
   "cell_type": "markdown",
   "id": "50b05403",
   "metadata": {},
   "source": [
    "#### missing value"
   ]
  },
  {
   "cell_type": "code",
   "execution_count": 142,
   "id": "fd75bd0d",
   "metadata": {},
   "outputs": [],
   "source": [
    "# pip install prettytable"
   ]
  },
  {
   "cell_type": "code",
   "execution_count": 143,
   "id": "3daa114a",
   "metadata": {},
   "outputs": [
    {
     "name": "stdout",
     "output_type": "stream",
     "text": [
      "+------------------+---------------------+-----------+-----------+\n",
      "|     Feature      |      Data Type      | Missing # | Missing % |\n",
      "+------------------+---------------------+-----------+-----------+\n",
      "|     abstract     |        object       |    330    |    0.7    |\n",
      "|     pub_date     | datetime64[ns, UTC] |     0     |    0.0    |\n",
      "|  document_type   |        object       |     0     |    0.0    |\n",
      "|    news_desk     |        object       |    999    |    2.2    |\n",
      "|   section_name   |        object       |    325    |    0.7    |\n",
      "| type_of_material |        object       |    2356   |    5.1    |\n",
      "|     keywords     |        object       |    2932   |    6.4    |\n",
      "+------------------+---------------------+-----------+-----------+\n"
     ]
    }
   ],
   "source": [
    "from prettytable import PrettyTable\n",
    "table = PrettyTable()\n",
    "\n",
    "table.field_names = ['Feature', 'Data Type', 'Missing #', 'Missing %']\n",
    "for column in df_full.columns:\n",
    "    data_type = str(df_full[column].dtype)\n",
    "    non_null_percent = np.round(100 - df_full[column].count()/df_full[column].shape[0]*100,1)\n",
    "    non_null_count = df_full[column].isnull().sum()\n",
    "    table.add_row([column, data_type, non_null_count, non_null_percent])\n",
    "print(table)"
   ]
  },
  {
   "cell_type": "markdown",
   "id": "08c32594",
   "metadata": {},
   "source": [
    " #### 1. `abstract`"
   ]
  },
  {
   "cell_type": "code",
   "execution_count": 144,
   "id": "5746c6a0",
   "metadata": {},
   "outputs": [
    {
     "name": "stdout",
     "output_type": "stream",
     "text": [
      "cond1:  (330, 7)\n"
     ]
    }
   ],
   "source": [
    "cond1 = df_full.iloc[:,0].isnull() & df_full.iloc[:,-1].isnull()\n",
    "\n",
    "print('cond1: ', df_full[cond1].shape)"
   ]
  },
  {
   "cell_type": "code",
   "execution_count": 145,
   "id": "72b633f5",
   "metadata": {},
   "outputs": [
    {
     "data": {
      "text/html": [
       "<div>\n",
       "<style scoped>\n",
       "    .dataframe tbody tr th:only-of-type {\n",
       "        vertical-align: middle;\n",
       "    }\n",
       "\n",
       "    .dataframe tbody tr th {\n",
       "        vertical-align: top;\n",
       "    }\n",
       "\n",
       "    .dataframe thead th {\n",
       "        text-align: right;\n",
       "    }\n",
       "</style>\n",
       "<table border=\"1\" class=\"dataframe\">\n",
       "  <thead>\n",
       "    <tr style=\"text-align: right;\">\n",
       "      <th></th>\n",
       "      <th>abstract</th>\n",
       "      <th>pub_date</th>\n",
       "      <th>document_type</th>\n",
       "      <th>news_desk</th>\n",
       "      <th>section_name</th>\n",
       "      <th>type_of_material</th>\n",
       "      <th>keywords</th>\n",
       "    </tr>\n",
       "  </thead>\n",
       "  <tbody>\n",
       "    <tr>\n",
       "      <th>2743</th>\n",
       "      <td>NaN</td>\n",
       "      <td>2023-02-23 20:18:57+00:00</td>\n",
       "      <td>multimedia</td>\n",
       "      <td>Briefing</td>\n",
       "      <td>Briefing</td>\n",
       "      <td>Interactive Feature</td>\n",
       "      <td>NaN</td>\n",
       "    </tr>\n",
       "    <tr>\n",
       "      <th>368</th>\n",
       "      <td>NaN</td>\n",
       "      <td>2023-03-03 14:42:58+00:00</td>\n",
       "      <td>multimedia</td>\n",
       "      <td>NaN</td>\n",
       "      <td>NaN</td>\n",
       "      <td>NaN</td>\n",
       "      <td>NaN</td>\n",
       "    </tr>\n",
       "    <tr>\n",
       "      <th>769</th>\n",
       "      <td>NaN</td>\n",
       "      <td>2023-03-07 15:37:24+00:00</td>\n",
       "      <td>multimedia</td>\n",
       "      <td>NaN</td>\n",
       "      <td>NaN</td>\n",
       "      <td>NaN</td>\n",
       "      <td>NaN</td>\n",
       "    </tr>\n",
       "    <tr>\n",
       "      <th>798</th>\n",
       "      <td>NaN</td>\n",
       "      <td>2023-03-07 19:55:39+00:00</td>\n",
       "      <td>multimedia</td>\n",
       "      <td>NaN</td>\n",
       "      <td>NaN</td>\n",
       "      <td>NaN</td>\n",
       "      <td>NaN</td>\n",
       "    </tr>\n",
       "    <tr>\n",
       "      <th>813</th>\n",
       "      <td>NaN</td>\n",
       "      <td>2023-03-07 21:43:03+00:00</td>\n",
       "      <td>multimedia</td>\n",
       "      <td>NaN</td>\n",
       "      <td>NaN</td>\n",
       "      <td>NaN</td>\n",
       "      <td>NaN</td>\n",
       "    </tr>\n",
       "  </tbody>\n",
       "</table>\n",
       "</div>"
      ],
      "text/plain": [
       "     abstract                  pub_date document_type news_desk section_name  \\\n",
       "2743      NaN 2023-02-23 20:18:57+00:00    multimedia  Briefing     Briefing   \n",
       "368       NaN 2023-03-03 14:42:58+00:00    multimedia       NaN          NaN   \n",
       "769       NaN 2023-03-07 15:37:24+00:00    multimedia       NaN          NaN   \n",
       "798       NaN 2023-03-07 19:55:39+00:00    multimedia       NaN          NaN   \n",
       "813       NaN 2023-03-07 21:43:03+00:00    multimedia       NaN          NaN   \n",
       "\n",
       "         type_of_material keywords  \n",
       "2743  Interactive Feature      NaN  \n",
       "368                   NaN      NaN  \n",
       "769                   NaN      NaN  \n",
       "798                   NaN      NaN  \n",
       "813                   NaN      NaN  "
      ]
     },
     "execution_count": 145,
     "metadata": {},
     "output_type": "execute_result"
    }
   ],
   "source": [
    "df_full[cond1].head(5)"
   ]
  },
  {
   "cell_type": "markdown",
   "id": "02a24258",
   "metadata": {},
   "source": [
    "  it looks like when `abstract` value is `NaN`, column `keywords` is also `NaN. Thus we can safely drop those rows.\n",
    "   "
   ]
  },
  {
   "cell_type": "code",
   "execution_count": 146,
   "id": "4a73aea4",
   "metadata": {},
   "outputs": [],
   "source": [
    "df_full = df_full.dropna(axis='rows', subset=['abstract'])"
   ]
  },
  {
   "cell_type": "markdown",
   "id": "0132875a",
   "metadata": {},
   "source": [
    "#### 2.  `section_name`"
   ]
  },
  {
   "cell_type": "code",
   "execution_count": 147,
   "id": "3a32eb18",
   "metadata": {},
   "outputs": [
    {
     "data": {
      "text/html": [
       "<div>\n",
       "<style scoped>\n",
       "    .dataframe tbody tr th:only-of-type {\n",
       "        vertical-align: middle;\n",
       "    }\n",
       "\n",
       "    .dataframe tbody tr th {\n",
       "        vertical-align: top;\n",
       "    }\n",
       "\n",
       "    .dataframe thead th {\n",
       "        text-align: right;\n",
       "    }\n",
       "</style>\n",
       "<table border=\"1\" class=\"dataframe\">\n",
       "  <thead>\n",
       "    <tr style=\"text-align: right;\">\n",
       "      <th></th>\n",
       "      <th>abstract</th>\n",
       "      <th>pub_date</th>\n",
       "      <th>document_type</th>\n",
       "      <th>news_desk</th>\n",
       "      <th>section_name</th>\n",
       "      <th>type_of_material</th>\n",
       "      <th>keywords</th>\n",
       "    </tr>\n",
       "  </thead>\n",
       "  <tbody>\n",
       "    <tr>\n",
       "      <th>2068</th>\n",
       "      <td>The fashion designer and founder of the brand Bad Binch TongTong accepts T’s challenge to make an object with a copy of The New York Times and a few select craft supplies.</td>\n",
       "      <td>2023-02-17 10:00:16+00:00</td>\n",
       "      <td>multimedia</td>\n",
       "      <td>NaN</td>\n",
       "      <td>NaN</td>\n",
       "      <td>Video</td>\n",
       "      <td>NaN</td>\n",
       "    </tr>\n",
       "    <tr>\n",
       "      <th>1558</th>\n",
       "      <td>This word has appeared in 32 articles on NYTimes.com in the past year. Can you use it in a sentence?</td>\n",
       "      <td>2023-08-14 06:00:08+00:00</td>\n",
       "      <td>article</td>\n",
       "      <td>Learning</td>\n",
       "      <td>NaN</td>\n",
       "      <td>News</td>\n",
       "      <td>NaN</td>\n",
       "    </tr>\n",
       "    <tr>\n",
       "      <th>2937</th>\n",
       "      <td>This word has appeared in 10 articles on NYTimes.com in the past year. Can you use it in a sentence?</td>\n",
       "      <td>2023-08-25 06:00:02+00:00</td>\n",
       "      <td>article</td>\n",
       "      <td>Learning</td>\n",
       "      <td>NaN</td>\n",
       "      <td>News</td>\n",
       "      <td>NaN</td>\n",
       "    </tr>\n",
       "    <tr>\n",
       "      <th>682</th>\n",
       "      <td>This word has appeared in 108 articles on NYTimes.com in the past year. Can you use it in a sentence?</td>\n",
       "      <td>2023-09-07 06:00:02+00:00</td>\n",
       "      <td>article</td>\n",
       "      <td>Learning</td>\n",
       "      <td>NaN</td>\n",
       "      <td>News</td>\n",
       "      <td>NaN</td>\n",
       "    </tr>\n",
       "    <tr>\n",
       "      <th>1448</th>\n",
       "      <td>This word has appeared in 34 articles on NYTimes.com in the past year. Can you use it in a sentence?</td>\n",
       "      <td>2023-09-13 06:00:02+00:00</td>\n",
       "      <td>article</td>\n",
       "      <td>Learning</td>\n",
       "      <td>NaN</td>\n",
       "      <td>News</td>\n",
       "      <td>NaN</td>\n",
       "    </tr>\n",
       "    <tr>\n",
       "      <th>1789</th>\n",
       "      <td>This word has appeared in 63 articles on NYTimes.com in the past year. Can you use it in a sentence?</td>\n",
       "      <td>2023-09-15 06:00:02+00:00</td>\n",
       "      <td>article</td>\n",
       "      <td>Learning</td>\n",
       "      <td>NaN</td>\n",
       "      <td>News</td>\n",
       "      <td>NaN</td>\n",
       "    </tr>\n",
       "  </tbody>\n",
       "</table>\n",
       "</div>"
      ],
      "text/plain": [
       "                                                                                                                                                                         abstract  \\\n",
       "2068  The fashion designer and founder of the brand Bad Binch TongTong accepts T’s challenge to make an object with a copy of The New York Times and a few select craft supplies.   \n",
       "1558                                                                         This word has appeared in 32 articles on NYTimes.com in the past year. Can you use it in a sentence?   \n",
       "2937                                                                         This word has appeared in 10 articles on NYTimes.com in the past year. Can you use it in a sentence?   \n",
       "682                                                                         This word has appeared in 108 articles on NYTimes.com in the past year. Can you use it in a sentence?   \n",
       "1448                                                                         This word has appeared in 34 articles on NYTimes.com in the past year. Can you use it in a sentence?   \n",
       "1789                                                                         This word has appeared in 63 articles on NYTimes.com in the past year. Can you use it in a sentence?   \n",
       "\n",
       "                      pub_date document_type news_desk section_name  \\\n",
       "2068 2023-02-17 10:00:16+00:00    multimedia       NaN          NaN   \n",
       "1558 2023-08-14 06:00:08+00:00       article  Learning          NaN   \n",
       "2937 2023-08-25 06:00:02+00:00       article  Learning          NaN   \n",
       "682  2023-09-07 06:00:02+00:00       article  Learning          NaN   \n",
       "1448 2023-09-13 06:00:02+00:00       article  Learning          NaN   \n",
       "1789 2023-09-15 06:00:02+00:00       article  Learning          NaN   \n",
       "\n",
       "     type_of_material keywords  \n",
       "2068            Video      NaN  \n",
       "1558             News      NaN  \n",
       "2937             News      NaN  \n",
       "682              News      NaN  \n",
       "1448             News      NaN  \n",
       "1789             News      NaN  "
      ]
     },
     "execution_count": 147,
     "metadata": {},
     "output_type": "execute_result"
    }
   ],
   "source": [
    "df_full[df_full['section_name'].isnull()]"
   ]
  },
  {
   "cell_type": "markdown",
   "id": "59d70911",
   "metadata": {},
   "source": [
    "when `section_name` is nan, keywords is empty, and there is no useful information in `abstract` ; thus we can safely drop those rows."
   ]
  },
  {
   "cell_type": "code",
   "execution_count": 148,
   "id": "9f87bbb3",
   "metadata": {},
   "outputs": [],
   "source": [
    "df_full = df_full.dropna(axis='rows', subset=['section_name'], )"
   ]
  },
  {
   "cell_type": "code",
   "execution_count": 149,
   "id": "c3eda3d2",
   "metadata": {},
   "outputs": [
    {
     "data": {
      "text/plain": [
       "abstract               0\n",
       "pub_date               0\n",
       "document_type          0\n",
       "news_desk            671\n",
       "section_name           0\n",
       "type_of_material    2037\n",
       "keywords            2596\n",
       "dtype: int64"
      ]
     },
     "execution_count": 149,
     "metadata": {},
     "output_type": "execute_result"
    }
   ],
   "source": [
    "df_full.isnull().sum()"
   ]
  },
  {
   "cell_type": "markdown",
   "id": "5589a777",
   "metadata": {},
   "source": [
    "Let's print out the distinct value "
   ]
  },
  {
   "cell_type": "code",
   "execution_count": 150,
   "id": "57cf95f2",
   "metadata": {},
   "outputs": [
    {
     "name": "stdout",
     "output_type": "stream",
     "text": [
      "+------------------+------------------+---------------------------------------------------------------------------------+-----------+\n",
      "|     Feature      | distinct value # |                                  distinct value                                 | Missing # |\n",
      "+------------------+------------------+---------------------------------------------------------------------------------+-----------+\n",
      "|  document_type   |        2         |                 Index(['article', 'multimedia'], dtype='object')                |     0     |\n",
      "|    news_desk     |        80        |                                      > 50                                       |    671    |\n",
      "|   section_name   |        49        | Index(['U.S.', 'World', 'Opinion', 'Arts', 'Business Day', 'New York', 'Books', |     0     |\n",
      "|                  |                  |         'Sports', 'Style', 'Movies', 'Crosswords & Games', 'Briefing', 'Food',  |           |\n",
      "|                  |                  |            'The Learning Network', 'Real Estate', 'Podcasts', 'Corrections',    |           |\n",
      "|                  |                  |           'Technology', 'Theater', 'Science', 'Magazine', 'Well', 'Climate',    |           |\n",
      "|                  |                  |            'Health', 'T Magazine', 'Travel', 'The Upshot', 'Times Insider',     |           |\n",
      "|                  |                  |            'Your Money', 'Obituaries', 'Fashion & Style', 'Smarter Living',     |           |\n",
      "|                  |                  |             'Guide', 'Special Series', 'T Brand', 'Headway', 'en Español',      |           |\n",
      "|                  |                  |                     'International Home', 'Reader Center', 'Video',             |           |\n",
      "|                  |                  |            'The New York Times Presents', 'Education', 'Homepage', 'Admin',     |           |\n",
      "|                  |                  |            'Multimedia/Photos', 'Book Review', 'Automobiles', 'Job Market',     |           |\n",
      "|                  |                  |                                        'Lens'],                                 |           |\n",
      "|                  |                  |                                    dtype='object')                              |           |\n",
      "| type_of_material |        14        |       Index(['News', 'Op-Ed', 'Review', 'Interactive Feature', 'briefing',      |    2037   |\n",
      "|                  |                  |              'Obituary (Obit)', 'Video', 'Letter', 'Quote', 'Correction',       |           |\n",
      "|                  |                  |                 'Editorial', 'Slideshow', 'News Analysis', 'Question'],         |           |\n",
      "|                  |                  |                                    dtype='object')                              |           |\n",
      "+------------------+------------------+---------------------------------------------------------------------------------+-----------+\n"
     ]
    }
   ],
   "source": [
    "table = PrettyTable()\n",
    "\n",
    "table.field_names = ['Feature', 'distinct value #', 'distinct value', 'Missing #']\n",
    "for column in df_full.iloc[:,-5:-1]:\n",
    "    distinct_value_count = df_full[column].value_counts().count()\n",
    "    if distinct_value_count >50:\n",
    "        distinct_value = '> 50 '\n",
    "    else:\n",
    "        distinct_value = df_full[column].value_counts().index\n",
    "    non_null_count = df_full[column].isnull().sum()\n",
    "    table.add_row([column, distinct_value_count, distinct_value, non_null_count])\n",
    "print(table)"
   ]
  },
  {
   "cell_type": "markdown",
   "id": "7b03e665",
   "metadata": {},
   "source": [
    "We are not insterested in 'Crosswords & Games', 'Corrections', 'Obituaries', 'The Learning Network'"
   ]
  },
  {
   "cell_type": "code",
   "execution_count": 151,
   "id": "4a4c1a9c",
   "metadata": {},
   "outputs": [],
   "source": [
    "cond2 = (df_full['section_name'] == 'Crosswords & Games')|(df_full['section_name'] == 'Corrections') | (df_full['section_name'] == 'Obituaries')|(df_full['section_name'] == 'The Learning Network')\n",
    "df_full = df_full[~cond2]"
   ]
  },
  {
   "cell_type": "markdown",
   "id": "36f3e797",
   "metadata": {},
   "source": [
    "#### 3. `type_of_material`"
   ]
  },
  {
   "cell_type": "markdown",
   "id": "00be741b",
   "metadata": {},
   "source": [
    "We will drop those rows with `type_of_material` as 'Obituary (Obit)', 'Quote', 'Correction'"
   ]
  },
  {
   "cell_type": "code",
   "execution_count": 152,
   "id": "58cd472a",
   "metadata": {},
   "outputs": [],
   "source": [
    "cond4 = (df_full['type_of_material'] == 'Obituary (Obit)') | (df_full['type_of_material'] == 'Quote') | (df_full['type_of_material']=='Correction')\n",
    "df_full = df_full[~cond4]"
   ]
  },
  {
   "cell_type": "code",
   "execution_count": 153,
   "id": "64ec3373",
   "metadata": {},
   "outputs": [
    {
     "data": {
      "text/plain": [
       "abstract               0\n",
       "pub_date               0\n",
       "document_type          0\n",
       "news_desk            670\n",
       "section_name           0\n",
       "type_of_material    2037\n",
       "keywords            1066\n",
       "dtype: int64"
      ]
     },
     "execution_count": 153,
     "metadata": {},
     "output_type": "execute_result"
    }
   ],
   "source": [
    "df_full.isnull().sum()"
   ]
  },
  {
   "cell_type": "markdown",
   "id": "9dce760c",
   "metadata": {},
   "source": [
    "### keyword analysis"
   ]
  },
  {
   "cell_type": "code",
   "execution_count": 154,
   "id": "1c771b29",
   "metadata": {},
   "outputs": [],
   "source": [
    "# !pip install wordcloud"
   ]
  },
  {
   "cell_type": "code",
   "execution_count": 155,
   "id": "5ecf3467",
   "metadata": {},
   "outputs": [],
   "source": [
    "full_word_list = []\n",
    "for word in df_full['keywords']:\n",
    "    if isinstance(word, str):\n",
    "        keyword = re.findall(r\"'(.*?)'\",word)\n",
    "        full_word_list.extend(keyword)"
   ]
  },
  {
   "cell_type": "code",
   "execution_count": 156,
   "id": "88d0f6f0",
   "metadata": {},
   "outputs": [
    {
     "data": {
      "text/plain": [
       "298384"
      ]
     },
     "execution_count": 156,
     "metadata": {},
     "output_type": "execute_result"
    }
   ],
   "source": [
    "len(full_word_list)"
   ]
  },
  {
   "cell_type": "markdown",
   "id": "caed4101",
   "metadata": {},
   "source": [
    "#### collect top 50 keywords from `full_word_list`"
   ]
  },
  {
   "cell_type": "code",
   "execution_count": 157,
   "id": "459cd1b1",
   "metadata": {},
   "outputs": [],
   "source": [
    "top_50 = Counter(full_word_list).most_common(50)"
   ]
  },
  {
   "cell_type": "markdown",
   "id": "2e33fd6f",
   "metadata": {},
   "source": [
    "Let's do some cleaning. We can remove the first `,` and combine some of the keywords which have similar meaning."
   ]
  },
  {
   "cell_type": "code",
   "execution_count": 158,
   "id": "8e45804e",
   "metadata": {},
   "outputs": [],
   "source": [
    "top_50 = top_50[1:]"
   ]
  },
  {
   "cell_type": "code",
   "execution_count": 159,
   "id": "cf6cea06",
   "metadata": {},
   "outputs": [
    {
     "name": "stdout",
     "output_type": "stream",
     "text": [
      "0 ('UNITED STATES POLITICS AND GOVERNMENT', 4426)\n",
      "1 ('UNITED STATES', 3625)\n",
      "2 ('DEATHS (FATALITIES)', 2806)\n",
      "3 ('CORONAVIRUS (2019-NCOV)', 2679)\n",
      "4 ('POLITICS AND GOVERNMENT', 2602)\n",
      "5 ('TRUMP, DONALD J', 2394)\n",
      "6 ('CONTENT TYPE: PERSONAL PROFILE', 2383)\n",
      "7 ('REPUBLICAN PARTY', 2247)\n",
      "8 ('STATES (US)', 2229)\n",
      "9 ('BIDEN, JOSEPH R JR', 2179)\n",
      "10 ('INTERNAL-OPEN-ACCESS', 2074)\n",
      "11 ('BOOKS AND LITERATURE', 2052)\n",
      "12 ('RUSSIAN INVASION OF UKRAINE (2022)', 2040)\n",
      "13 ('DISEASE RATES', 2020)\n",
      "14 ('PRESIDENTIAL ELECTION OF 2024', 1776)\n",
      "15 ('MOVIES', 1672)\n",
      "16 ('INTERNATIONAL RELATIONS', 1645)\n",
      "17 ('NEW YORK CITY', 1597)\n",
      "18 ('DEFENSE AND MILITARY FORCES', 1497)\n",
      "19 ('RUSSIA', 1427)\n",
      "20 ('UKRAINE', 1424)\n",
      "21 ('TELEVISION', 1406)\n",
      "22 ('ISRAEL', 1387)\n",
      "23 ('CONTENT TYPE: SERVICE', 1386)\n",
      "24 ('UNITED STATES INTERNATIONAL RELATIONS', 1361)\n",
      "25 ('ISRAEL-GAZA WAR (2023- )', 1340)\n",
      "26 ('CHINA', 1147)\n",
      "27 ('LAW AND LEGISLATION', 1145)\n",
      "28 ('REAL ESTATE AND HOUSING (RESIDENTIAL)', 1056)\n",
      "29 ('GLOBAL WARMING', 1046)\n",
      "30 ('COMPUTERS AND THE INTERNET', 1011)\n",
      "31 ('SUITS AND LITIGATION (CIVIL)', 983)\n",
      "32 ('SOCIAL MEDIA', 981)\n",
      "33 ('GAZA STRIP', 944)\n",
      "34 ('INTERNAL-SUB-ONLY-NL', 934)\n",
      "35 ('DEMOCRATIC PARTY', 922)\n",
      "36 ('ART', 917)\n",
      "37 ('HOUSE OF REPRESENTATIVES', 889)\n",
      "38 ('AUDIO-NEUTRAL-INFORMATIVE', 880)\n",
      "39 ('BLACK PEOPLE', 879)\n",
      "40 ('BLACKS', 879)\n",
      "41 ('INTERNAL-STORYLINE-NO', 863)\n",
      "42 ('UNITED STATES ECONOMY', 850)\n",
      "43 ('PALESTINIANS', 836)\n",
      "44 ('DISCRIMINATION', 817)\n",
      "45 ('HAMAS', 813)\n",
      "46 ('MURDERS, ATTEMPTED MURDERS AND HOMICIDES', 796)\n",
      "47 ('THEATER', 765)\n",
      "48 ('DECISIONS AND VERDICTS', 759)\n"
     ]
    }
   ],
   "source": [
    "for j, i in enumerate(top_50):\n",
    "    print(j, i)"
   ]
  },
  {
   "cell_type": "markdown",
   "id": "0ca2a4bf",
   "metadata": {},
   "source": [
    "remove items contains `content_type` and others like `books`, `movies`,`INTERNAL-OPEN-ACCESS`,`INTERNAL-SUB-ONLY-NL`, `INTERNAL-STORYLINE-NO`, etc."
   ]
  },
  {
   "cell_type": "code",
   "execution_count": 160,
   "id": "98139f19",
   "metadata": {},
   "outputs": [],
   "source": [
    "remove_indices=[6, 10, 11, 15, 21,23, 34, 36, 38,41, 47]\n",
    "\n",
    "top_50 = [i for j, i in enumerate(top_50) if j not in remove_indices]"
   ]
  },
  {
   "cell_type": "code",
   "execution_count": 161,
   "id": "e96ef6e2",
   "metadata": {},
   "outputs": [
    {
     "name": "stdout",
     "output_type": "stream",
     "text": [
      "0 ('UNITED STATES POLITICS AND GOVERNMENT', 4426)\n",
      "1 ('UNITED STATES', 3625)\n",
      "2 ('DEATHS (FATALITIES)', 2806)\n",
      "3 ('CORONAVIRUS (2019-NCOV)', 2679)\n",
      "4 ('POLITICS AND GOVERNMENT', 2602)\n",
      "5 ('TRUMP, DONALD J', 2394)\n",
      "6 ('REPUBLICAN PARTY', 2247)\n",
      "7 ('STATES (US)', 2229)\n",
      "8 ('BIDEN, JOSEPH R JR', 2179)\n",
      "9 ('RUSSIAN INVASION OF UKRAINE (2022)', 2040)\n",
      "10 ('DISEASE RATES', 2020)\n",
      "11 ('PRESIDENTIAL ELECTION OF 2024', 1776)\n",
      "12 ('INTERNATIONAL RELATIONS', 1645)\n",
      "13 ('NEW YORK CITY', 1597)\n",
      "14 ('DEFENSE AND MILITARY FORCES', 1497)\n",
      "15 ('RUSSIA', 1427)\n",
      "16 ('UKRAINE', 1424)\n",
      "17 ('ISRAEL', 1387)\n",
      "18 ('UNITED STATES INTERNATIONAL RELATIONS', 1361)\n",
      "19 ('ISRAEL-GAZA WAR (2023- )', 1340)\n",
      "20 ('CHINA', 1147)\n",
      "21 ('LAW AND LEGISLATION', 1145)\n",
      "22 ('REAL ESTATE AND HOUSING (RESIDENTIAL)', 1056)\n",
      "23 ('GLOBAL WARMING', 1046)\n",
      "24 ('COMPUTERS AND THE INTERNET', 1011)\n",
      "25 ('SUITS AND LITIGATION (CIVIL)', 983)\n",
      "26 ('SOCIAL MEDIA', 981)\n",
      "27 ('GAZA STRIP', 944)\n",
      "28 ('DEMOCRATIC PARTY', 922)\n",
      "29 ('HOUSE OF REPRESENTATIVES', 889)\n",
      "30 ('BLACK PEOPLE', 879)\n",
      "31 ('BLACKS', 879)\n",
      "32 ('UNITED STATES ECONOMY', 850)\n",
      "33 ('PALESTINIANS', 836)\n",
      "34 ('DISCRIMINATION', 817)\n",
      "35 ('HAMAS', 813)\n",
      "36 ('MURDERS, ATTEMPTED MURDERS AND HOMICIDES', 796)\n",
      "37 ('DECISIONS AND VERDICTS', 759)\n"
     ]
    }
   ],
   "source": [
    "for j, i in enumerate(top_50):\n",
    "    print(j, i)"
   ]
  },
  {
   "cell_type": "markdown",
   "id": "ef8ae2d0",
   "metadata": {},
   "source": [
    "Combine similar keywords"
   ]
  },
  {
   "cell_type": "code",
   "execution_count": 162,
   "id": "5edc4634",
   "metadata": {},
   "outputs": [],
   "source": [
    "# combine 'GAZA STRIP' , 'ISRAEL' and 'ISRAEL-GAZA WAR (2023- )', 'PALESTINIANS', 'HAMAS'\n",
    "count1 = top_50[17][1] + top_50[19][1] + top_50[27][1] + top_50[33][1] + top_50[35][1]\n",
    "top_50[19] = tuple(['ISRAEL-GAZA WAR (2023- ) | HAMAS | PALESTINIANS ', count1])"
   ]
  },
  {
   "cell_type": "code",
   "execution_count": 163,
   "id": "e2a57e62",
   "metadata": {},
   "outputs": [],
   "source": [
    "# remove 'GAZA STRIP' , 'ISRAEL', 'PALESTINIANS', 'HAMAS'\n",
    "remove_indices=[17,27, 33, 35]\n",
    "\n",
    "top_50 = [i for j, i in enumerate(top_50) if j not in remove_indices]"
   ]
  },
  {
   "cell_type": "code",
   "execution_count": 164,
   "id": "d372a7bf",
   "metadata": {},
   "outputs": [],
   "source": [
    "# combine 'RUSSIA', 'UKRAINE' and 'RUSSIAN INVASION OF UKRAINE (2022)'\n",
    "count2 = top_50[15][1] + top_50[16][1] + top_50[9][1]\n",
    "top_50[9] = tuple(['RUSSIAN INVASION OF UKRAINE (2022)', count2])"
   ]
  },
  {
   "cell_type": "code",
   "execution_count": 165,
   "id": "5c1c1a6e",
   "metadata": {},
   "outputs": [],
   "source": [
    "# remove 'RUSSIA', 'UKRAINE'\n",
    "remove_indices = [15,16]\n",
    "top_50 = [i for j, i in enumerate(top_50) if j not in remove_indices]"
   ]
  },
  {
   "cell_type": "code",
   "execution_count": 166,
   "id": "787ec5ce",
   "metadata": {},
   "outputs": [],
   "source": [
    "# combine 'BLACK PEOPLE', 'BLACKS'\n",
    "\n",
    "count3 = top_50[26][1] + top_50[27][1] \n",
    "top_50[26] = tuple(['BLACK PEOPLE', count3])"
   ]
  },
  {
   "cell_type": "code",
   "execution_count": 167,
   "id": "59ed49b4",
   "metadata": {},
   "outputs": [],
   "source": [
    "# remove 'BLACKS'\n",
    "remove_indices = [27]\n",
    "top_50 = [i for j, i in enumerate(top_50) if j not in remove_indices]"
   ]
  },
  {
   "cell_type": "code",
   "execution_count": 168,
   "id": "ad05842e",
   "metadata": {},
   "outputs": [],
   "source": [
    "# combine 'UNITED STATES INTERNATIONAL RELATIONS' and 'INTERNATIONAL RELATIONS'\n",
    "count4 = top_50[12][1] + top_50[15][1] \n",
    "top_50[12] = tuple(['INTERNATIONAL RELATIONS', count4])"
   ]
  },
  {
   "cell_type": "code",
   "execution_count": 169,
   "id": "be11e3a2",
   "metadata": {},
   "outputs": [],
   "source": [
    "# remove 'UNITED STATES INTERNATIONAL RELATIONS'\n",
    "remove_indices = [15]\n",
    "top_50 = [i for j, i in enumerate(top_50) if j not in remove_indices]"
   ]
  },
  {
   "cell_type": "code",
   "execution_count": 170,
   "id": "e3ff166e",
   "metadata": {},
   "outputs": [],
   "source": [
    "top_50.sort(key=lambda a: a[1], reverse = True)"
   ]
  },
  {
   "cell_type": "markdown",
   "id": "a710e77e",
   "metadata": {},
   "source": [
    "#### plot keywords of 2023 using iplot"
   ]
  },
  {
   "cell_type": "code",
   "execution_count": 171,
   "id": "9a41888b",
   "metadata": {},
   "outputs": [],
   "source": [
    "words= [item[0] for item in top_50]"
   ]
  },
  {
   "cell_type": "code",
   "execution_count": 172,
   "id": "4d8f3bac",
   "metadata": {},
   "outputs": [],
   "source": [
    "freq = [item[1] for item in top_50]"
   ]
  },
  {
   "cell_type": "code",
   "execution_count": 173,
   "id": "95e1907f",
   "metadata": {},
   "outputs": [],
   "source": [
    "trace = go.Bar(x=words , y=freq)"
   ]
  },
  {
   "cell_type": "code",
   "execution_count": 174,
   "id": "0e2c2ac9",
   "metadata": {},
   "outputs": [
    {
     "data": {
      "application/vnd.plotly.v1+json": {
       "config": {
        "linkText": "Export to plot.ly",
        "plotlyServerURL": "https://plot.ly",
        "showLink": false
       },
       "data": [
        {
         "type": "bar",
         "x": [
          "ISRAEL-GAZA WAR (2023- ) | HAMAS | PALESTINIANS ",
          "RUSSIAN INVASION OF UKRAINE (2022)",
          "UNITED STATES POLITICS AND GOVERNMENT",
          "UNITED STATES",
          "INTERNATIONAL RELATIONS",
          "DEATHS (FATALITIES)",
          "CORONAVIRUS (2019-NCOV)",
          "POLITICS AND GOVERNMENT",
          "TRUMP, DONALD J",
          "REPUBLICAN PARTY",
          "STATES (US)",
          "BIDEN, JOSEPH R JR",
          "DISEASE RATES",
          "PRESIDENTIAL ELECTION OF 2024",
          "BLACK PEOPLE",
          "NEW YORK CITY",
          "DEFENSE AND MILITARY FORCES",
          "CHINA",
          "LAW AND LEGISLATION",
          "REAL ESTATE AND HOUSING (RESIDENTIAL)",
          "GLOBAL WARMING",
          "COMPUTERS AND THE INTERNET",
          "SUITS AND LITIGATION (CIVIL)",
          "SOCIAL MEDIA",
          "DEMOCRATIC PARTY",
          "HOUSE OF REPRESENTATIVES",
          "UNITED STATES ECONOMY",
          "DISCRIMINATION",
          "MURDERS, ATTEMPTED MURDERS AND HOMICIDES",
          "DECISIONS AND VERDICTS"
         ],
         "y": [
          5320,
          4891,
          4426,
          3625,
          3006,
          2806,
          2679,
          2602,
          2394,
          2247,
          2229,
          2179,
          2020,
          1776,
          1758,
          1597,
          1497,
          1147,
          1145,
          1056,
          1046,
          1011,
          983,
          981,
          922,
          889,
          850,
          817,
          796,
          759
         ]
        }
       ],
       "layout": {
        "template": {
         "data": {
          "bar": [
           {
            "error_x": {
             "color": "#2a3f5f"
            },
            "error_y": {
             "color": "#2a3f5f"
            },
            "marker": {
             "line": {
              "color": "#E5ECF6",
              "width": 0.5
             },
             "pattern": {
              "fillmode": "overlay",
              "size": 10,
              "solidity": 0.2
             }
            },
            "type": "bar"
           }
          ],
          "barpolar": [
           {
            "marker": {
             "line": {
              "color": "#E5ECF6",
              "width": 0.5
             },
             "pattern": {
              "fillmode": "overlay",
              "size": 10,
              "solidity": 0.2
             }
            },
            "type": "barpolar"
           }
          ],
          "carpet": [
           {
            "aaxis": {
             "endlinecolor": "#2a3f5f",
             "gridcolor": "white",
             "linecolor": "white",
             "minorgridcolor": "white",
             "startlinecolor": "#2a3f5f"
            },
            "baxis": {
             "endlinecolor": "#2a3f5f",
             "gridcolor": "white",
             "linecolor": "white",
             "minorgridcolor": "white",
             "startlinecolor": "#2a3f5f"
            },
            "type": "carpet"
           }
          ],
          "choropleth": [
           {
            "colorbar": {
             "outlinewidth": 0,
             "ticks": ""
            },
            "type": "choropleth"
           }
          ],
          "contour": [
           {
            "colorbar": {
             "outlinewidth": 0,
             "ticks": ""
            },
            "colorscale": [
             [
              0,
              "#0d0887"
             ],
             [
              0.1111111111111111,
              "#46039f"
             ],
             [
              0.2222222222222222,
              "#7201a8"
             ],
             [
              0.3333333333333333,
              "#9c179e"
             ],
             [
              0.4444444444444444,
              "#bd3786"
             ],
             [
              0.5555555555555556,
              "#d8576b"
             ],
             [
              0.6666666666666666,
              "#ed7953"
             ],
             [
              0.7777777777777778,
              "#fb9f3a"
             ],
             [
              0.8888888888888888,
              "#fdca26"
             ],
             [
              1,
              "#f0f921"
             ]
            ],
            "type": "contour"
           }
          ],
          "contourcarpet": [
           {
            "colorbar": {
             "outlinewidth": 0,
             "ticks": ""
            },
            "type": "contourcarpet"
           }
          ],
          "heatmap": [
           {
            "colorbar": {
             "outlinewidth": 0,
             "ticks": ""
            },
            "colorscale": [
             [
              0,
              "#0d0887"
             ],
             [
              0.1111111111111111,
              "#46039f"
             ],
             [
              0.2222222222222222,
              "#7201a8"
             ],
             [
              0.3333333333333333,
              "#9c179e"
             ],
             [
              0.4444444444444444,
              "#bd3786"
             ],
             [
              0.5555555555555556,
              "#d8576b"
             ],
             [
              0.6666666666666666,
              "#ed7953"
             ],
             [
              0.7777777777777778,
              "#fb9f3a"
             ],
             [
              0.8888888888888888,
              "#fdca26"
             ],
             [
              1,
              "#f0f921"
             ]
            ],
            "type": "heatmap"
           }
          ],
          "heatmapgl": [
           {
            "colorbar": {
             "outlinewidth": 0,
             "ticks": ""
            },
            "colorscale": [
             [
              0,
              "#0d0887"
             ],
             [
              0.1111111111111111,
              "#46039f"
             ],
             [
              0.2222222222222222,
              "#7201a8"
             ],
             [
              0.3333333333333333,
              "#9c179e"
             ],
             [
              0.4444444444444444,
              "#bd3786"
             ],
             [
              0.5555555555555556,
              "#d8576b"
             ],
             [
              0.6666666666666666,
              "#ed7953"
             ],
             [
              0.7777777777777778,
              "#fb9f3a"
             ],
             [
              0.8888888888888888,
              "#fdca26"
             ],
             [
              1,
              "#f0f921"
             ]
            ],
            "type": "heatmapgl"
           }
          ],
          "histogram": [
           {
            "marker": {
             "pattern": {
              "fillmode": "overlay",
              "size": 10,
              "solidity": 0.2
             }
            },
            "type": "histogram"
           }
          ],
          "histogram2d": [
           {
            "colorbar": {
             "outlinewidth": 0,
             "ticks": ""
            },
            "colorscale": [
             [
              0,
              "#0d0887"
             ],
             [
              0.1111111111111111,
              "#46039f"
             ],
             [
              0.2222222222222222,
              "#7201a8"
             ],
             [
              0.3333333333333333,
              "#9c179e"
             ],
             [
              0.4444444444444444,
              "#bd3786"
             ],
             [
              0.5555555555555556,
              "#d8576b"
             ],
             [
              0.6666666666666666,
              "#ed7953"
             ],
             [
              0.7777777777777778,
              "#fb9f3a"
             ],
             [
              0.8888888888888888,
              "#fdca26"
             ],
             [
              1,
              "#f0f921"
             ]
            ],
            "type": "histogram2d"
           }
          ],
          "histogram2dcontour": [
           {
            "colorbar": {
             "outlinewidth": 0,
             "ticks": ""
            },
            "colorscale": [
             [
              0,
              "#0d0887"
             ],
             [
              0.1111111111111111,
              "#46039f"
             ],
             [
              0.2222222222222222,
              "#7201a8"
             ],
             [
              0.3333333333333333,
              "#9c179e"
             ],
             [
              0.4444444444444444,
              "#bd3786"
             ],
             [
              0.5555555555555556,
              "#d8576b"
             ],
             [
              0.6666666666666666,
              "#ed7953"
             ],
             [
              0.7777777777777778,
              "#fb9f3a"
             ],
             [
              0.8888888888888888,
              "#fdca26"
             ],
             [
              1,
              "#f0f921"
             ]
            ],
            "type": "histogram2dcontour"
           }
          ],
          "mesh3d": [
           {
            "colorbar": {
             "outlinewidth": 0,
             "ticks": ""
            },
            "type": "mesh3d"
           }
          ],
          "parcoords": [
           {
            "line": {
             "colorbar": {
              "outlinewidth": 0,
              "ticks": ""
             }
            },
            "type": "parcoords"
           }
          ],
          "pie": [
           {
            "automargin": true,
            "type": "pie"
           }
          ],
          "scatter": [
           {
            "fillpattern": {
             "fillmode": "overlay",
             "size": 10,
             "solidity": 0.2
            },
            "type": "scatter"
           }
          ],
          "scatter3d": [
           {
            "line": {
             "colorbar": {
              "outlinewidth": 0,
              "ticks": ""
             }
            },
            "marker": {
             "colorbar": {
              "outlinewidth": 0,
              "ticks": ""
             }
            },
            "type": "scatter3d"
           }
          ],
          "scattercarpet": [
           {
            "marker": {
             "colorbar": {
              "outlinewidth": 0,
              "ticks": ""
             }
            },
            "type": "scattercarpet"
           }
          ],
          "scattergeo": [
           {
            "marker": {
             "colorbar": {
              "outlinewidth": 0,
              "ticks": ""
             }
            },
            "type": "scattergeo"
           }
          ],
          "scattergl": [
           {
            "marker": {
             "colorbar": {
              "outlinewidth": 0,
              "ticks": ""
             }
            },
            "type": "scattergl"
           }
          ],
          "scattermapbox": [
           {
            "marker": {
             "colorbar": {
              "outlinewidth": 0,
              "ticks": ""
             }
            },
            "type": "scattermapbox"
           }
          ],
          "scatterpolar": [
           {
            "marker": {
             "colorbar": {
              "outlinewidth": 0,
              "ticks": ""
             }
            },
            "type": "scatterpolar"
           }
          ],
          "scatterpolargl": [
           {
            "marker": {
             "colorbar": {
              "outlinewidth": 0,
              "ticks": ""
             }
            },
            "type": "scatterpolargl"
           }
          ],
          "scatterternary": [
           {
            "marker": {
             "colorbar": {
              "outlinewidth": 0,
              "ticks": ""
             }
            },
            "type": "scatterternary"
           }
          ],
          "surface": [
           {
            "colorbar": {
             "outlinewidth": 0,
             "ticks": ""
            },
            "colorscale": [
             [
              0,
              "#0d0887"
             ],
             [
              0.1111111111111111,
              "#46039f"
             ],
             [
              0.2222222222222222,
              "#7201a8"
             ],
             [
              0.3333333333333333,
              "#9c179e"
             ],
             [
              0.4444444444444444,
              "#bd3786"
             ],
             [
              0.5555555555555556,
              "#d8576b"
             ],
             [
              0.6666666666666666,
              "#ed7953"
             ],
             [
              0.7777777777777778,
              "#fb9f3a"
             ],
             [
              0.8888888888888888,
              "#fdca26"
             ],
             [
              1,
              "#f0f921"
             ]
            ],
            "type": "surface"
           }
          ],
          "table": [
           {
            "cells": {
             "fill": {
              "color": "#EBF0F8"
             },
             "line": {
              "color": "white"
             }
            },
            "header": {
             "fill": {
              "color": "#C8D4E3"
             },
             "line": {
              "color": "white"
             }
            },
            "type": "table"
           }
          ]
         },
         "layout": {
          "annotationdefaults": {
           "arrowcolor": "#2a3f5f",
           "arrowhead": 0,
           "arrowwidth": 1
          },
          "autotypenumbers": "strict",
          "coloraxis": {
           "colorbar": {
            "outlinewidth": 0,
            "ticks": ""
           }
          },
          "colorscale": {
           "diverging": [
            [
             0,
             "#8e0152"
            ],
            [
             0.1,
             "#c51b7d"
            ],
            [
             0.2,
             "#de77ae"
            ],
            [
             0.3,
             "#f1b6da"
            ],
            [
             0.4,
             "#fde0ef"
            ],
            [
             0.5,
             "#f7f7f7"
            ],
            [
             0.6,
             "#e6f5d0"
            ],
            [
             0.7,
             "#b8e186"
            ],
            [
             0.8,
             "#7fbc41"
            ],
            [
             0.9,
             "#4d9221"
            ],
            [
             1,
             "#276419"
            ]
           ],
           "sequential": [
            [
             0,
             "#0d0887"
            ],
            [
             0.1111111111111111,
             "#46039f"
            ],
            [
             0.2222222222222222,
             "#7201a8"
            ],
            [
             0.3333333333333333,
             "#9c179e"
            ],
            [
             0.4444444444444444,
             "#bd3786"
            ],
            [
             0.5555555555555556,
             "#d8576b"
            ],
            [
             0.6666666666666666,
             "#ed7953"
            ],
            [
             0.7777777777777778,
             "#fb9f3a"
            ],
            [
             0.8888888888888888,
             "#fdca26"
            ],
            [
             1,
             "#f0f921"
            ]
           ],
           "sequentialminus": [
            [
             0,
             "#0d0887"
            ],
            [
             0.1111111111111111,
             "#46039f"
            ],
            [
             0.2222222222222222,
             "#7201a8"
            ],
            [
             0.3333333333333333,
             "#9c179e"
            ],
            [
             0.4444444444444444,
             "#bd3786"
            ],
            [
             0.5555555555555556,
             "#d8576b"
            ],
            [
             0.6666666666666666,
             "#ed7953"
            ],
            [
             0.7777777777777778,
             "#fb9f3a"
            ],
            [
             0.8888888888888888,
             "#fdca26"
            ],
            [
             1,
             "#f0f921"
            ]
           ]
          },
          "colorway": [
           "#636efa",
           "#EF553B",
           "#00cc96",
           "#ab63fa",
           "#FFA15A",
           "#19d3f3",
           "#FF6692",
           "#B6E880",
           "#FF97FF",
           "#FECB52"
          ],
          "font": {
           "color": "#2a3f5f"
          },
          "geo": {
           "bgcolor": "white",
           "lakecolor": "white",
           "landcolor": "#E5ECF6",
           "showlakes": true,
           "showland": true,
           "subunitcolor": "white"
          },
          "hoverlabel": {
           "align": "left"
          },
          "hovermode": "closest",
          "mapbox": {
           "style": "light"
          },
          "paper_bgcolor": "white",
          "plot_bgcolor": "#E5ECF6",
          "polar": {
           "angularaxis": {
            "gridcolor": "white",
            "linecolor": "white",
            "ticks": ""
           },
           "bgcolor": "#E5ECF6",
           "radialaxis": {
            "gridcolor": "white",
            "linecolor": "white",
            "ticks": ""
           }
          },
          "scene": {
           "xaxis": {
            "backgroundcolor": "#E5ECF6",
            "gridcolor": "white",
            "gridwidth": 2,
            "linecolor": "white",
            "showbackground": true,
            "ticks": "",
            "zerolinecolor": "white"
           },
           "yaxis": {
            "backgroundcolor": "#E5ECF6",
            "gridcolor": "white",
            "gridwidth": 2,
            "linecolor": "white",
            "showbackground": true,
            "ticks": "",
            "zerolinecolor": "white"
           },
           "zaxis": {
            "backgroundcolor": "#E5ECF6",
            "gridcolor": "white",
            "gridwidth": 2,
            "linecolor": "white",
            "showbackground": true,
            "ticks": "",
            "zerolinecolor": "white"
           }
          },
          "shapedefaults": {
           "line": {
            "color": "#2a3f5f"
           }
          },
          "ternary": {
           "aaxis": {
            "gridcolor": "white",
            "linecolor": "white",
            "ticks": ""
           },
           "baxis": {
            "gridcolor": "white",
            "linecolor": "white",
            "ticks": ""
           },
           "bgcolor": "#E5ECF6",
           "caxis": {
            "gridcolor": "white",
            "linecolor": "white",
            "ticks": ""
           }
          },
          "title": {
           "x": 0.05
          },
          "xaxis": {
           "automargin": true,
           "gridcolor": "white",
           "linecolor": "white",
           "ticks": "",
           "title": {
            "standoff": 15
           },
           "zerolinecolor": "white",
           "zerolinewidth": 2
          },
          "yaxis": {
           "automargin": true,
           "gridcolor": "white",
           "linecolor": "white",
           "ticks": "",
           "title": {
            "standoff": 15
           },
           "zerolinecolor": "white",
           "zerolinewidth": 2
          }
         }
        }
       }
      },
      "text/html": [
       "<div>                            <div id=\"853d0ae4-4822-48b3-8ecb-536f7dc8bc7d\" class=\"plotly-graph-div\" style=\"height:525px; width:100%;\"></div>            <script type=\"text/javascript\">                require([\"plotly\"], function(Plotly) {                    window.PLOTLYENV=window.PLOTLYENV || {};                                    if (document.getElementById(\"853d0ae4-4822-48b3-8ecb-536f7dc8bc7d\")) {                    Plotly.newPlot(                        \"853d0ae4-4822-48b3-8ecb-536f7dc8bc7d\",                        [{\"x\":[\"ISRAEL-GAZA WAR (2023- ) | HAMAS | PALESTINIANS \",\"RUSSIAN INVASION OF UKRAINE (2022)\",\"UNITED STATES POLITICS AND GOVERNMENT\",\"UNITED STATES\",\"INTERNATIONAL RELATIONS\",\"DEATHS (FATALITIES)\",\"CORONAVIRUS (2019-NCOV)\",\"POLITICS AND GOVERNMENT\",\"TRUMP, DONALD J\",\"REPUBLICAN PARTY\",\"STATES (US)\",\"BIDEN, JOSEPH R JR\",\"DISEASE RATES\",\"PRESIDENTIAL ELECTION OF 2024\",\"BLACK PEOPLE\",\"NEW YORK CITY\",\"DEFENSE AND MILITARY FORCES\",\"CHINA\",\"LAW AND LEGISLATION\",\"REAL ESTATE AND HOUSING (RESIDENTIAL)\",\"GLOBAL WARMING\",\"COMPUTERS AND THE INTERNET\",\"SUITS AND LITIGATION (CIVIL)\",\"SOCIAL MEDIA\",\"DEMOCRATIC PARTY\",\"HOUSE OF REPRESENTATIVES\",\"UNITED STATES ECONOMY\",\"DISCRIMINATION\",\"MURDERS, ATTEMPTED MURDERS AND HOMICIDES\",\"DECISIONS AND VERDICTS\"],\"y\":[5320,4891,4426,3625,3006,2806,2679,2602,2394,2247,2229,2179,2020,1776,1758,1597,1497,1147,1145,1056,1046,1011,983,981,922,889,850,817,796,759],\"type\":\"bar\"}],                        {\"template\":{\"data\":{\"barpolar\":[{\"marker\":{\"line\":{\"color\":\"#E5ECF6\",\"width\":0.5},\"pattern\":{\"fillmode\":\"overlay\",\"size\":10,\"solidity\":0.2}},\"type\":\"barpolar\"}],\"bar\":[{\"error_x\":{\"color\":\"#2a3f5f\"},\"error_y\":{\"color\":\"#2a3f5f\"},\"marker\":{\"line\":{\"color\":\"#E5ECF6\",\"width\":0.5},\"pattern\":{\"fillmode\":\"overlay\",\"size\":10,\"solidity\":0.2}},\"type\":\"bar\"}],\"carpet\":[{\"aaxis\":{\"endlinecolor\":\"#2a3f5f\",\"gridcolor\":\"white\",\"linecolor\":\"white\",\"minorgridcolor\":\"white\",\"startlinecolor\":\"#2a3f5f\"},\"baxis\":{\"endlinecolor\":\"#2a3f5f\",\"gridcolor\":\"white\",\"linecolor\":\"white\",\"minorgridcolor\":\"white\",\"startlinecolor\":\"#2a3f5f\"},\"type\":\"carpet\"}],\"choropleth\":[{\"colorbar\":{\"outlinewidth\":0,\"ticks\":\"\"},\"type\":\"choropleth\"}],\"contourcarpet\":[{\"colorbar\":{\"outlinewidth\":0,\"ticks\":\"\"},\"type\":\"contourcarpet\"}],\"contour\":[{\"colorbar\":{\"outlinewidth\":0,\"ticks\":\"\"},\"colorscale\":[[0.0,\"#0d0887\"],[0.1111111111111111,\"#46039f\"],[0.2222222222222222,\"#7201a8\"],[0.3333333333333333,\"#9c179e\"],[0.4444444444444444,\"#bd3786\"],[0.5555555555555556,\"#d8576b\"],[0.6666666666666666,\"#ed7953\"],[0.7777777777777778,\"#fb9f3a\"],[0.8888888888888888,\"#fdca26\"],[1.0,\"#f0f921\"]],\"type\":\"contour\"}],\"heatmapgl\":[{\"colorbar\":{\"outlinewidth\":0,\"ticks\":\"\"},\"colorscale\":[[0.0,\"#0d0887\"],[0.1111111111111111,\"#46039f\"],[0.2222222222222222,\"#7201a8\"],[0.3333333333333333,\"#9c179e\"],[0.4444444444444444,\"#bd3786\"],[0.5555555555555556,\"#d8576b\"],[0.6666666666666666,\"#ed7953\"],[0.7777777777777778,\"#fb9f3a\"],[0.8888888888888888,\"#fdca26\"],[1.0,\"#f0f921\"]],\"type\":\"heatmapgl\"}],\"heatmap\":[{\"colorbar\":{\"outlinewidth\":0,\"ticks\":\"\"},\"colorscale\":[[0.0,\"#0d0887\"],[0.1111111111111111,\"#46039f\"],[0.2222222222222222,\"#7201a8\"],[0.3333333333333333,\"#9c179e\"],[0.4444444444444444,\"#bd3786\"],[0.5555555555555556,\"#d8576b\"],[0.6666666666666666,\"#ed7953\"],[0.7777777777777778,\"#fb9f3a\"],[0.8888888888888888,\"#fdca26\"],[1.0,\"#f0f921\"]],\"type\":\"heatmap\"}],\"histogram2dcontour\":[{\"colorbar\":{\"outlinewidth\":0,\"ticks\":\"\"},\"colorscale\":[[0.0,\"#0d0887\"],[0.1111111111111111,\"#46039f\"],[0.2222222222222222,\"#7201a8\"],[0.3333333333333333,\"#9c179e\"],[0.4444444444444444,\"#bd3786\"],[0.5555555555555556,\"#d8576b\"],[0.6666666666666666,\"#ed7953\"],[0.7777777777777778,\"#fb9f3a\"],[0.8888888888888888,\"#fdca26\"],[1.0,\"#f0f921\"]],\"type\":\"histogram2dcontour\"}],\"histogram2d\":[{\"colorbar\":{\"outlinewidth\":0,\"ticks\":\"\"},\"colorscale\":[[0.0,\"#0d0887\"],[0.1111111111111111,\"#46039f\"],[0.2222222222222222,\"#7201a8\"],[0.3333333333333333,\"#9c179e\"],[0.4444444444444444,\"#bd3786\"],[0.5555555555555556,\"#d8576b\"],[0.6666666666666666,\"#ed7953\"],[0.7777777777777778,\"#fb9f3a\"],[0.8888888888888888,\"#fdca26\"],[1.0,\"#f0f921\"]],\"type\":\"histogram2d\"}],\"histogram\":[{\"marker\":{\"pattern\":{\"fillmode\":\"overlay\",\"size\":10,\"solidity\":0.2}},\"type\":\"histogram\"}],\"mesh3d\":[{\"colorbar\":{\"outlinewidth\":0,\"ticks\":\"\"},\"type\":\"mesh3d\"}],\"parcoords\":[{\"line\":{\"colorbar\":{\"outlinewidth\":0,\"ticks\":\"\"}},\"type\":\"parcoords\"}],\"pie\":[{\"automargin\":true,\"type\":\"pie\"}],\"scatter3d\":[{\"line\":{\"colorbar\":{\"outlinewidth\":0,\"ticks\":\"\"}},\"marker\":{\"colorbar\":{\"outlinewidth\":0,\"ticks\":\"\"}},\"type\":\"scatter3d\"}],\"scattercarpet\":[{\"marker\":{\"colorbar\":{\"outlinewidth\":0,\"ticks\":\"\"}},\"type\":\"scattercarpet\"}],\"scattergeo\":[{\"marker\":{\"colorbar\":{\"outlinewidth\":0,\"ticks\":\"\"}},\"type\":\"scattergeo\"}],\"scattergl\":[{\"marker\":{\"colorbar\":{\"outlinewidth\":0,\"ticks\":\"\"}},\"type\":\"scattergl\"}],\"scattermapbox\":[{\"marker\":{\"colorbar\":{\"outlinewidth\":0,\"ticks\":\"\"}},\"type\":\"scattermapbox\"}],\"scatterpolargl\":[{\"marker\":{\"colorbar\":{\"outlinewidth\":0,\"ticks\":\"\"}},\"type\":\"scatterpolargl\"}],\"scatterpolar\":[{\"marker\":{\"colorbar\":{\"outlinewidth\":0,\"ticks\":\"\"}},\"type\":\"scatterpolar\"}],\"scatter\":[{\"fillpattern\":{\"fillmode\":\"overlay\",\"size\":10,\"solidity\":0.2},\"type\":\"scatter\"}],\"scatterternary\":[{\"marker\":{\"colorbar\":{\"outlinewidth\":0,\"ticks\":\"\"}},\"type\":\"scatterternary\"}],\"surface\":[{\"colorbar\":{\"outlinewidth\":0,\"ticks\":\"\"},\"colorscale\":[[0.0,\"#0d0887\"],[0.1111111111111111,\"#46039f\"],[0.2222222222222222,\"#7201a8\"],[0.3333333333333333,\"#9c179e\"],[0.4444444444444444,\"#bd3786\"],[0.5555555555555556,\"#d8576b\"],[0.6666666666666666,\"#ed7953\"],[0.7777777777777778,\"#fb9f3a\"],[0.8888888888888888,\"#fdca26\"],[1.0,\"#f0f921\"]],\"type\":\"surface\"}],\"table\":[{\"cells\":{\"fill\":{\"color\":\"#EBF0F8\"},\"line\":{\"color\":\"white\"}},\"header\":{\"fill\":{\"color\":\"#C8D4E3\"},\"line\":{\"color\":\"white\"}},\"type\":\"table\"}]},\"layout\":{\"annotationdefaults\":{\"arrowcolor\":\"#2a3f5f\",\"arrowhead\":0,\"arrowwidth\":1},\"autotypenumbers\":\"strict\",\"coloraxis\":{\"colorbar\":{\"outlinewidth\":0,\"ticks\":\"\"}},\"colorscale\":{\"diverging\":[[0,\"#8e0152\"],[0.1,\"#c51b7d\"],[0.2,\"#de77ae\"],[0.3,\"#f1b6da\"],[0.4,\"#fde0ef\"],[0.5,\"#f7f7f7\"],[0.6,\"#e6f5d0\"],[0.7,\"#b8e186\"],[0.8,\"#7fbc41\"],[0.9,\"#4d9221\"],[1,\"#276419\"]],\"sequential\":[[0.0,\"#0d0887\"],[0.1111111111111111,\"#46039f\"],[0.2222222222222222,\"#7201a8\"],[0.3333333333333333,\"#9c179e\"],[0.4444444444444444,\"#bd3786\"],[0.5555555555555556,\"#d8576b\"],[0.6666666666666666,\"#ed7953\"],[0.7777777777777778,\"#fb9f3a\"],[0.8888888888888888,\"#fdca26\"],[1.0,\"#f0f921\"]],\"sequentialminus\":[[0.0,\"#0d0887\"],[0.1111111111111111,\"#46039f\"],[0.2222222222222222,\"#7201a8\"],[0.3333333333333333,\"#9c179e\"],[0.4444444444444444,\"#bd3786\"],[0.5555555555555556,\"#d8576b\"],[0.6666666666666666,\"#ed7953\"],[0.7777777777777778,\"#fb9f3a\"],[0.8888888888888888,\"#fdca26\"],[1.0,\"#f0f921\"]]},\"colorway\":[\"#636efa\",\"#EF553B\",\"#00cc96\",\"#ab63fa\",\"#FFA15A\",\"#19d3f3\",\"#FF6692\",\"#B6E880\",\"#FF97FF\",\"#FECB52\"],\"font\":{\"color\":\"#2a3f5f\"},\"geo\":{\"bgcolor\":\"white\",\"lakecolor\":\"white\",\"landcolor\":\"#E5ECF6\",\"showlakes\":true,\"showland\":true,\"subunitcolor\":\"white\"},\"hoverlabel\":{\"align\":\"left\"},\"hovermode\":\"closest\",\"mapbox\":{\"style\":\"light\"},\"paper_bgcolor\":\"white\",\"plot_bgcolor\":\"#E5ECF6\",\"polar\":{\"angularaxis\":{\"gridcolor\":\"white\",\"linecolor\":\"white\",\"ticks\":\"\"},\"bgcolor\":\"#E5ECF6\",\"radialaxis\":{\"gridcolor\":\"white\",\"linecolor\":\"white\",\"ticks\":\"\"}},\"scene\":{\"xaxis\":{\"backgroundcolor\":\"#E5ECF6\",\"gridcolor\":\"white\",\"gridwidth\":2,\"linecolor\":\"white\",\"showbackground\":true,\"ticks\":\"\",\"zerolinecolor\":\"white\"},\"yaxis\":{\"backgroundcolor\":\"#E5ECF6\",\"gridcolor\":\"white\",\"gridwidth\":2,\"linecolor\":\"white\",\"showbackground\":true,\"ticks\":\"\",\"zerolinecolor\":\"white\"},\"zaxis\":{\"backgroundcolor\":\"#E5ECF6\",\"gridcolor\":\"white\",\"gridwidth\":2,\"linecolor\":\"white\",\"showbackground\":true,\"ticks\":\"\",\"zerolinecolor\":\"white\"}},\"shapedefaults\":{\"line\":{\"color\":\"#2a3f5f\"}},\"ternary\":{\"aaxis\":{\"gridcolor\":\"white\",\"linecolor\":\"white\",\"ticks\":\"\"},\"baxis\":{\"gridcolor\":\"white\",\"linecolor\":\"white\",\"ticks\":\"\"},\"bgcolor\":\"#E5ECF6\",\"caxis\":{\"gridcolor\":\"white\",\"linecolor\":\"white\",\"ticks\":\"\"}},\"title\":{\"x\":0.05},\"xaxis\":{\"automargin\":true,\"gridcolor\":\"white\",\"linecolor\":\"white\",\"ticks\":\"\",\"title\":{\"standoff\":15},\"zerolinecolor\":\"white\",\"zerolinewidth\":2},\"yaxis\":{\"automargin\":true,\"gridcolor\":\"white\",\"linecolor\":\"white\",\"ticks\":\"\",\"title\":{\"standoff\":15},\"zerolinecolor\":\"white\",\"zerolinewidth\":2}}}},                        {\"responsive\": true}                    ).then(function(){\n",
       "                            \n",
       "var gd = document.getElementById('853d0ae4-4822-48b3-8ecb-536f7dc8bc7d');\n",
       "var x = new MutationObserver(function (mutations, observer) {{\n",
       "        var display = window.getComputedStyle(gd).display;\n",
       "        if (!display || display === 'none') {{\n",
       "            console.log([gd, 'removed!']);\n",
       "            Plotly.purge(gd);\n",
       "            observer.disconnect();\n",
       "        }}\n",
       "}});\n",
       "\n",
       "// Listen for the removal of the full notebook cells\n",
       "var notebookContainer = gd.closest('#notebook-container');\n",
       "if (notebookContainer) {{\n",
       "    x.observe(notebookContainer, {childList: true});\n",
       "}}\n",
       "\n",
       "// Listen for the clearing of the current output cell\n",
       "var outputEl = gd.closest('.output');\n",
       "if (outputEl) {{\n",
       "    x.observe(outputEl, {childList: true});\n",
       "}}\n",
       "\n",
       "                        })                };                });            </script>        </div>"
      ]
     },
     "metadata": {},
     "output_type": "display_data"
    }
   ],
   "source": [
    "iplot([trace])"
   ]
  },
  {
   "cell_type": "markdown",
   "id": "bfed46ce",
   "metadata": {},
   "source": [
    "#### Top keywords of 2023\n",
    "* ISRAEL-GAZA WAR\n",
    "* RUSSION-UKRAINE WAR\n",
    "* UNITED STATES POLITICS AND GOVERNMENT\n",
    "* INTERNATIONAL RELATIONS\n",
    "* 2019-NCOV\n",
    "* PRESIDENTIAL ELECTION OF 2024\n",
    "* BIDEN AND TRUMP\n",
    "* BLACK PEOPLE\n",
    "* CHINA\n"
   ]
  },
  {
   "cell_type": "markdown",
   "id": "bc0fd2bf",
   "metadata": {},
   "source": [
    "#### plot keywords using WordCloud"
   ]
  },
  {
   "cell_type": "code",
   "execution_count": 175,
   "id": "6806bb89",
   "metadata": {},
   "outputs": [],
   "source": [
    "top_100 = Counter(full_word_list).most_common(100)"
   ]
  },
  {
   "cell_type": "code",
   "execution_count": 176,
   "id": "0c251109",
   "metadata": {},
   "outputs": [
    {
     "name": "stdout",
     "output_type": "stream",
     "text": [
      "0 (', ', 4643)\n",
      "1 ('UNITED STATES POLITICS AND GOVERNMENT', 4426)\n",
      "2 ('UNITED STATES', 3625)\n",
      "3 ('DEATHS (FATALITIES)', 2806)\n",
      "4 ('CORONAVIRUS (2019-NCOV)', 2679)\n",
      "5 ('POLITICS AND GOVERNMENT', 2602)\n",
      "6 ('TRUMP, DONALD J', 2394)\n",
      "7 ('CONTENT TYPE: PERSONAL PROFILE', 2383)\n",
      "8 ('REPUBLICAN PARTY', 2247)\n",
      "9 ('STATES (US)', 2229)\n",
      "10 ('BIDEN, JOSEPH R JR', 2179)\n",
      "11 ('INTERNAL-OPEN-ACCESS', 2074)\n",
      "12 ('BOOKS AND LITERATURE', 2052)\n",
      "13 ('RUSSIAN INVASION OF UKRAINE (2022)', 2040)\n",
      "14 ('DISEASE RATES', 2020)\n",
      "15 ('PRESIDENTIAL ELECTION OF 2024', 1776)\n",
      "16 ('MOVIES', 1672)\n",
      "17 ('INTERNATIONAL RELATIONS', 1645)\n",
      "18 ('NEW YORK CITY', 1597)\n",
      "19 ('DEFENSE AND MILITARY FORCES', 1497)\n",
      "20 ('RUSSIA', 1427)\n",
      "21 ('UKRAINE', 1424)\n",
      "22 ('TELEVISION', 1406)\n",
      "23 ('ISRAEL', 1387)\n",
      "24 ('CONTENT TYPE: SERVICE', 1386)\n",
      "25 ('UNITED STATES INTERNATIONAL RELATIONS', 1361)\n",
      "26 ('ISRAEL-GAZA WAR (2023- )', 1340)\n",
      "27 ('CHINA', 1147)\n",
      "28 ('LAW AND LEGISLATION', 1145)\n",
      "29 ('REAL ESTATE AND HOUSING (RESIDENTIAL)', 1056)\n",
      "30 ('GLOBAL WARMING', 1046)\n",
      "31 ('COMPUTERS AND THE INTERNET', 1011)\n",
      "32 ('SUITS AND LITIGATION (CIVIL)', 983)\n",
      "33 ('SOCIAL MEDIA', 981)\n",
      "34 ('GAZA STRIP', 944)\n",
      "35 ('INTERNAL-SUB-ONLY-NL', 934)\n",
      "36 ('DEMOCRATIC PARTY', 922)\n",
      "37 ('ART', 917)\n",
      "38 ('HOUSE OF REPRESENTATIVES', 889)\n",
      "39 ('AUDIO-NEUTRAL-INFORMATIVE', 880)\n",
      "40 ('BLACK PEOPLE', 879)\n",
      "41 ('BLACKS', 879)\n",
      "42 ('INTERNAL-STORYLINE-NO', 863)\n",
      "43 ('UNITED STATES ECONOMY', 850)\n",
      "44 ('PALESTINIANS', 836)\n",
      "45 ('DISCRIMINATION', 817)\n",
      "46 ('HAMAS', 813)\n",
      "47 ('MURDERS, ATTEMPTED MURDERS AND HOMICIDES', 796)\n",
      "48 ('THEATER', 765)\n",
      "49 ('DECISIONS AND VERDICTS', 759)\n",
      "50 ('LABOR AND JOBS', 746)\n",
      "51 ('POP AND ROCK MUSIC', 725)\n",
      "52 ('DESANTIS, RON', 724)\n",
      "53 ('COOKING AND COOKBOOKS', 717)\n",
      "54 ('CALIFORNIA', 708)\n",
      "55 ('NEWS AND NEWS MEDIA', 698)\n",
      "56 ('ARTIFICIAL INTELLIGENCE', 691)\n",
      "57 ('COLLEGES AND UNIVERSITIES', 680)\n",
      "58 ('RESEARCH', 679)\n",
      "59 ('REGULATION AND DEREGULATION OF INDUSTRY', 668)\n",
      "60 ('WOMEN AND GIRLS', 659)\n",
      "61 ('DEMONSTRATIONS, PROTESTS AND RIOTS', 654)\n",
      "62 ('FASHION AND APPAREL', 651)\n",
      "63 ('POLLS AND PUBLIC OPINION', 643)\n",
      "64 ('INTERNAL-SUB-ONLY', 622)\n",
      "65 ('ELECTIONS', 610)\n",
      "66 ('TRAVEL AND VACATIONS', 591)\n",
      "67 ('WRITING AND WRITERS', 581)\n",
      "68 ('TERRORISM', 579)\n",
      "69 ('JUSTICE DEPARTMENT', 573)\n",
      "70 ('GREAT BRITAIN', 570)\n",
      "71 ('PUTIN, VLADIMIR V', 556)\n",
      "72 ('BANKING AND FINANCIAL INSTITUTIONS', 555)\n",
      "73 ('ACTORS AND ACTRESSES', 543)\n",
      "74 ('PRIMARIES AND CAUCUSES', 531)\n",
      "75 ('INFLATION (ECONOMICS)', 527)\n",
      "76 ('SUPREME COURT (US)', 517)\n",
      "77 ('YOUR-FEED-SCIENCE', 506)\n",
      "78 ('IMMIGRATION AND EMIGRATION', 493)\n",
      "79 ('MUSEUMS', 490)\n",
      "80 ('CONSERVATISM (US POLITICS)', 476)\n",
      "81 ('CHILDREN AND CHILDHOOD', 471)\n",
      "82 ('RIGHT-WING EXTREMISM AND ALT-RIGHT', 456)\n",
      "83 ('UNITED STATES DEFENSE AND MILITARY FORCES', 455)\n",
      "84 ('ECONOMIC CONDITIONS AND TRENDS', 451)\n",
      "85 ('GREENHOUSE GAS EMISSIONS', 451)\n",
      "86 ('RESTAURANTS', 446)\n",
      "87 ('ORGANIZED LABOR', 433)\n",
      "88 ('PRESIDENTIAL ELECTION OF 2020', 426)\n",
      "89 ('ABORTION', 425)\n",
      "90 ('CIVILIAN CASUALTIES', 424)\n",
      "91 ('APPOINTMENTS AND EXECUTIVE CHANGES', 421)\n",
      "92 ('MCCARTHY, KEVIN (1965- )', 411)\n",
      "93 ('EDUCATION (K-12)', 403)\n",
      "94 ('FLORIDA', 402)\n",
      "95 ('ILLEGAL IMMIGRATION', 392)\n",
      "96 ('INTEREST RATES', 391)\n",
      "97 ('SENATE', 391)\n",
      "98 ('JEWS AND JUDAISM', 391)\n",
      "99 ('NEW YORK STATE', 388)\n"
     ]
    }
   ],
   "source": [
    "for j, i in enumerate(top_100):\n",
    "    print(j, i)"
   ]
  },
  {
   "cell_type": "markdown",
   "id": "1a65bf17",
   "metadata": {},
   "source": [
    "remove items contains content_type, general terms, and INTERNAL-OPEN-ACCESS,INTERNAL-SUB-ONLY-NL, INTERNAL-STORYLINE-NO, etc."
   ]
  },
  {
   "cell_type": "code",
   "execution_count": 177,
   "id": "faf72fda",
   "metadata": {},
   "outputs": [],
   "source": [
    "remove_indices = [0, 2, 7,9, 11,12, 16, 22, 24,29,31, 35,37, 39, 42, 48, 64,73]\n",
    "top_100 = [i for j, i in enumerate(top_100) if j not in remove_indices]"
   ]
  },
  {
   "cell_type": "code",
   "execution_count": 178,
   "id": "43d12b26",
   "metadata": {},
   "outputs": [],
   "source": [
    "top_100_dict = dict(top_100)"
   ]
  },
  {
   "cell_type": "code",
   "execution_count": 184,
   "id": "980b96a0",
   "metadata": {},
   "outputs": [],
   "source": [
    "top_100_dict['NYTimes 2023 Keywords'] = 6000"
   ]
  },
  {
   "cell_type": "code",
   "execution_count": 181,
   "id": "e2d4b0ad",
   "metadata": {},
   "outputs": [],
   "source": [
    "# read mask image\n",
    "mask = np.array(Image.open(r'circle.jpg'))\n",
    "image_colors = ImageColorGenerator(mask)"
   ]
  },
  {
   "cell_type": "code",
   "execution_count": 185,
   "id": "c7ed06eb",
   "metadata": {},
   "outputs": [
    {
     "data": {
      "text/plain": [
       "(-0.5, 1199.5, 1199.5, -0.5)"
      ]
     },
     "execution_count": 185,
     "metadata": {},
     "output_type": "execute_result"
    },
    {
     "data": {
      "image/png": "[encoded data removed]",
      "text/plain": [
       "<Figure size 1080x1080 with 1 Axes>"
      ]
     },
     "metadata": {},
     "output_type": "display_data"
    }
   ],
   "source": [
    "wordcloud = WordCloud(width=500, height=500, background_color=\"rgba(255, 255, 255, 0)\", mask=mask,\n",
    "                      color_func=image_colors).generate_from_frequencies(top_100_dict)\n",
    "plt.figure(figsize=(15,15), facecolor='w')\n",
    "plt.imshow(wordcloud,interpolation='bilinear')\n",
    "plt.axis(\"off\")"
   ]
  },
  {
   "cell_type": "code",
   "execution_count": 186,
   "id": "8dfe7d7f",
   "metadata": {},
   "outputs": [
    {
     "data": {
      "text/plain": [
       "<wordcloud.wordcloud.WordCloud at 0x22114527fd0>"
      ]
     },
     "execution_count": 186,
     "metadata": {},
     "output_type": "execute_result"
    }
   ],
   "source": [
    "wordcloud.to_file('NYTimes_keywords_2023.png')"
   ]
  },
  {
   "cell_type": "code",
   "execution_count": null,
   "id": "776ad0a3",
   "metadata": {},
   "outputs": [],
   "source": []
  }
 ],
 "metadata": {
  "kernelspec": {
   "display_name": "Python 3 (ipykernel)",
   "language": "python",
   "name": "python3"
  },
  "language_info": {
   "codemirror_mode": {
    "name": "ipython",
    "version": 3
   },
   "file_extension": ".py",
   "mimetype": "text/x-python",
   "name": "python",
   "nbconvert_exporter": "python",
   "pygments_lexer": "ipython3",
   "version": "3.9.7"
  }
 },
 "nbformat": 4,
 "nbformat_minor": 5
}
